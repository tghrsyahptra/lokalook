{
  "cells": [
    {
      "cell_type": "code",
      "execution_count": null,
      "metadata": {
        "colab": {
          "base_uri": "https://localhost:8080/"
        },
        "id": "tPITeBzhdvhk",
        "outputId": "edfbbc54-ae61-4ece-9ef2-1bfabacf47c2"
      },
      "outputs": [
        {
          "output_type": "stream",
          "name": "stdout",
          "text": [
            "Mounted at /content/drive\n"
          ]
        }
      ],
      "source": [
        "from google.colab import drive\n",
        "drive.mount('/content/drive')\n",
        "\n"
      ]
    },
    {
      "cell_type": "code",
      "execution_count": null,
      "metadata": {
        "id": "ZXY3nejPcTwT"
      },
      "outputs": [],
      "source": [
        "# Import libraries\n",
        "import tensorflow as tf\n",
        "import os\n",
        "from tensorflow.keras.preprocessing.image import ImageDataGenerator\n",
        "from tensorflow.keras.applications import Xception  # Import Xception model\n",
        "from tensorflow.keras import layers, models\n",
        "from tensorflow.keras.optimizers import Adam\n",
        "from tensorflow.keras.callbacks import EarlyStopping, ReduceLROnPlateau\n",
        "import matplotlib.pyplot as plt\n"
      ]
    },
    {
      "cell_type": "code",
      "source": [
        "# # prompt: unzip this /content/drive/MyDrive/Capstone/Destination Banyumas.zip also this /content/drive/MyDrive/Capstone/Food Banyumas.zip, only imported required only and unzip in that folder\n",
        "\n",
        "# import zipfile\n",
        "\n",
        "# # Specify the paths to the zip files and the extraction directory.\n",
        "# zip_file1_path = '/content/drive/MyDrive/Capstone/Destination Banyumas.zip'\n",
        "# zip_file2_path = '/content/drive/MyDrive/Capstone/Food Banyumas.zip'\n",
        "# extraction_dir = '/content/drive/MyDrive/Capstone/'\n",
        "\n",
        "\n",
        "# # Function to unzip a file to a specified directory.\n",
        "# def unzip_file(zip_file_path, extraction_dir):\n",
        "#   with zipfile.ZipFile(zip_file_path, 'r') as zip_ref:\n",
        "#     zip_ref.extractall(extraction_dir)\n",
        "\n",
        "\n",
        "# # Unzip the first file.\n",
        "# unzip_file(zip_file1_path, extraction_dir)\n",
        "\n",
        "# # Unzip the second file.\n",
        "# unzip_file(zip_file2_path, extraction_dir)\n"
      ],
      "metadata": {
        "id": "fsihpftJLni3"
      },
      "execution_count": null,
      "outputs": []
    },
    {
      "cell_type": "code",
      "source": [
        "# # prompt: split banyumas food into 2 train test, do simpler cod with split-dataset library\n",
        "\n",
        "# !pip install split-folders\n",
        "\n",
        "# import splitfolders\n",
        "\n",
        "# # Define the input and output directories\n",
        "# input_folder = '/content/drive/MyDrive/Capstone/Food Banyumas'\n",
        "# output_folder = '/content/drive/MyDrive/Capstone/Food Banyumas_split'\n",
        "\n",
        "# # Split the data into train and test sets (80% train, 20% test)\n",
        "# splitfolders.ratio(input_folder, output=output_folder, seed=42, ratio=(.8, .2))"
      ],
      "metadata": {
        "id": "L6c1S8VcNL2o"
      },
      "execution_count": null,
      "outputs": []
    },
    {
      "cell_type": "code",
      "execution_count": null,
      "metadata": {
        "id": "YSVsDPnoT_rq"
      },
      "outputs": [],
      "source": [
        "\n",
        "# Dataset paths\n",
        "train_dir = '/content/drive/MyDrive/Capstone/Food Banyumas_split/train'\n",
        "test_dir = '/content/drive/MyDrive/Capstone/Food Banyumas_split/test'"
      ]
    },
    {
      "cell_type": "code",
      "source": [
        "# prompt: give me the distribution of main Food Banyumas dataset\n",
        "\n",
        "import os\n",
        "\n",
        "def count_images_in_folders(root_dir):\n",
        "  \"\"\"Counts the number of images in subfolders of a given directory.\n",
        "\n",
        "  Args:\n",
        "    root_dir: The path to the root directory.\n",
        "\n",
        "  Returns:\n",
        "    A dictionary where keys are subfolder names and values are the number of images\n",
        "    in each subfolder.\n",
        "  \"\"\"\n",
        "  image_counts = {}\n",
        "  for subdir, _, files in os.walk(root_dir):\n",
        "    if subdir != root_dir:  # Skip the root directory itself\n",
        "      class_name = os.path.basename(subdir)\n",
        "      image_count = sum(1 for file in files if file.lower().endswith(('.png', '.jpg', '.jpeg'))) # Count image files\n",
        "      image_counts[class_name] = image_count\n",
        "  return image_counts\n",
        "\n",
        "\n",
        "# Example usage for the training set\n",
        "train_dir = '/content/drive/MyDrive/Capstone/Food Banyumas_split/train'\n",
        "train_distribution = count_images_in_folders(train_dir)\n",
        "print(\"Distribution of images in the training set:\")\n",
        "for class_name, count in train_distribution.items():\n",
        "  print(f\"{class_name}: {count} images\")\n",
        "\n",
        "\n",
        "# Example usage for the validation set\n",
        "test_dir = '/content/drive/MyDrive/Capstone/Food Banyumas_split/test'\n",
        "test_distribution = count_images_in_folders(test_dir)\n",
        "print(\"\\nDistribution of images in the validation set:\")\n",
        "for class_name, count in test_distribution.items():\n",
        "  print(f\"{class_name}: {count} images\")"
      ],
      "metadata": {
        "id": "ay9ByOX1Pcqy"
      },
      "execution_count": null,
      "outputs": []
    },
    {
      "cell_type": "markdown",
      "source": [
        "# Prepro"
      ],
      "metadata": {
        "id": "g2_UoVOqPt7h"
      }
    },
    {
      "cell_type": "markdown",
      "source": [
        "## Augmentation"
      ],
      "metadata": {
        "id": "xsPIqaOOP0dQ"
      }
    },
    {
      "cell_type": "code",
      "source": [
        "# Parameters\n",
        "img_size = (299, 299)  # Required input size for Xception\n",
        "batch_size = 32\n",
        "epochs = 100\n",
        "fine_tune_epochs = 20\n",
        "\n",
        "# Data preprocessing\n",
        "train_datagen = ImageDataGenerator(\n",
        "    rescale=1./299,\n",
        "    rotation_range=30,\n",
        "    width_shift_range=0.3,\n",
        "    height_shift_range=0.3,\n",
        "    shear_range=0.3,\n",
        "    zoom_range=0.3,\n",
        "    horizontal_flip=True,\n",
        "    fill_mode='nearest'\n",
        ")\n",
        "\n",
        "test_datagen = ImageDataGenerator(rescale=1./299)\n",
        "\n",
        "# Data generators\n",
        "train_generator = train_datagen.flow_from_directory(\n",
        "    train_dir,\n",
        "    target_size=img_size,\n",
        "    batch_size=batch_size,\n",
        "    class_mode='categorical'\n",
        ")\n",
        "\n",
        "test_generator = test_datagen.flow_from_directory(\n",
        "    test_dir,\n",
        "    target_size=img_size,\n",
        "    batch_size=batch_size,\n",
        "    class_mode='categorical'\n",
        ")"
      ],
      "metadata": {
        "colab": {
          "base_uri": "https://localhost:8080/"
        },
        "id": "eRnUgKLPPu_l",
        "outputId": "5be16740-ae75-4a80-e723-5e41bdd25c24"
      },
      "execution_count": null,
      "outputs": [
        {
          "output_type": "stream",
          "name": "stdout",
          "text": [
            "Found 1762 images belonging to 11 classes.\n",
            "Found 448 images belonging to 11 classes.\n"
          ]
        }
      ]
    },
    {
      "cell_type": "markdown",
      "source": [
        "## Class Weight"
      ],
      "metadata": {
        "id": "W_iPkHPTQAlG"
      }
    },
    {
      "cell_type": "code",
      "source": [
        "from collections import Counter\n",
        "class_counts = Counter(train_generator.classes)\n",
        "total_images = sum(class_counts.values())\n",
        "class_weights = {cls: total_images / count for cls, count in class_counts.items()}"
      ],
      "metadata": {
        "id": "uEbFJyNMQDwA"
      },
      "execution_count": null,
      "outputs": []
    },
    {
      "cell_type": "code",
      "source": [
        "class_weights"
      ],
      "metadata": {
        "colab": {
          "base_uri": "https://localhost:8080/"
        },
        "id": "Vs8jd_eXQFH8",
        "outputId": "feccdad4-8058-40a8-b7c6-cc109534e0fb"
      },
      "execution_count": null,
      "outputs": [
        {
          "output_type": "execute_result",
          "data": {
            "text/plain": [
              "{0: 16.62264150943396,\n",
              " 1: 6.62406015037594,\n",
              " 2: 9.68131868131868,\n",
              " 3: 10.488095238095237,\n",
              " 4: 15.05982905982906,\n",
              " 5: 28.419354838709676,\n",
              " 6: 11.294871794871796,\n",
              " 7: 20.022727272727273,\n",
              " 8: 17.62,\n",
              " 9: 7.728070175438597,\n",
              " 10: 6.096885813148789}"
            ]
          },
          "metadata": {},
          "execution_count": 10
        }
      ]
    },
    {
      "cell_type": "markdown",
      "source": [
        "# Model"
      ],
      "metadata": {
        "id": "6zvDWe4vQPAg"
      }
    },
    {
      "cell_type": "code",
      "execution_count": null,
      "metadata": {
        "colab": {
          "base_uri": "https://localhost:8080/",
          "height": 1000
        },
        "id": "tfEMYpUngUjS",
        "outputId": "b97364d0-a8bc-4ef3-c68a-2bb7d3df4f6b"
      },
      "outputs": [
        {
          "output_type": "stream",
          "name": "stdout",
          "text": [
            "Downloading data from https://storage.googleapis.com/tensorflow/keras-applications/xception/xception_weights_tf_dim_ordering_tf_kernels_notop.h5\n",
            "\u001b[1m83683744/83683744\u001b[0m \u001b[32m━━━━━━━━━━━━━━━━━━━━\u001b[0m\u001b[37m\u001b[0m \u001b[1m3s\u001b[0m 0us/step\n"
          ]
        },
        {
          "output_type": "display_data",
          "data": {
            "text/plain": [
              "\u001b[1mModel: \"sequential\"\u001b[0m\n"
            ],
            "text/html": [
              "<pre style=\"white-space:pre;overflow-x:auto;line-height:normal;font-family:Menlo,'DejaVu Sans Mono',consolas,'Courier New',monospace\"><span style=\"font-weight: bold\">Model: \"sequential\"</span>\n",
              "</pre>\n"
            ]
          },
          "metadata": {}
        },
        {
          "output_type": "display_data",
          "data": {
            "text/plain": [
              "┏━━━━━━━━━━━━━━━━━━━━━━━━━━━━━━━━━━━━━━┳━━━━━━━━━━━━━━━━━━━━━━━━━━━━━┳━━━━━━━━━━━━━━━━━┓\n",
              "┃\u001b[1m \u001b[0m\u001b[1mLayer (type)                        \u001b[0m\u001b[1m \u001b[0m┃\u001b[1m \u001b[0m\u001b[1mOutput Shape               \u001b[0m\u001b[1m \u001b[0m┃\u001b[1m \u001b[0m\u001b[1m        Param #\u001b[0m\u001b[1m \u001b[0m┃\n",
              "┡━━━━━━━━━━━━━━━━━━━━━━━━━━━━━━━━━━━━━━╇━━━━━━━━━━━━━━━━━━━━━━━━━━━━━╇━━━━━━━━━━━━━━━━━┩\n",
              "│ xception (\u001b[38;5;33mFunctional\u001b[0m)                │ (\u001b[38;5;45mNone\u001b[0m, \u001b[38;5;34m10\u001b[0m, \u001b[38;5;34m10\u001b[0m, \u001b[38;5;34m2048\u001b[0m)        │      \u001b[38;5;34m20,861,480\u001b[0m │\n",
              "├──────────────────────────────────────┼─────────────────────────────┼─────────────────┤\n",
              "│ spatial_dropout2d (\u001b[38;5;33mSpatialDropout2D\u001b[0m) │ (\u001b[38;5;45mNone\u001b[0m, \u001b[38;5;34m10\u001b[0m, \u001b[38;5;34m10\u001b[0m, \u001b[38;5;34m2048\u001b[0m)        │               \u001b[38;5;34m0\u001b[0m │\n",
              "├──────────────────────────────────────┼─────────────────────────────┼─────────────────┤\n",
              "│ global_average_pooling2d             │ (\u001b[38;5;45mNone\u001b[0m, \u001b[38;5;34m2048\u001b[0m)                │               \u001b[38;5;34m0\u001b[0m │\n",
              "│ (\u001b[38;5;33mGlobalAveragePooling2D\u001b[0m)             │                             │                 │\n",
              "├──────────────────────────────────────┼─────────────────────────────┼─────────────────┤\n",
              "│ batch_normalization_4                │ (\u001b[38;5;45mNone\u001b[0m, \u001b[38;5;34m2048\u001b[0m)                │           \u001b[38;5;34m8,192\u001b[0m │\n",
              "│ (\u001b[38;5;33mBatchNormalization\u001b[0m)                 │                             │                 │\n",
              "├──────────────────────────────────────┼─────────────────────────────┼─────────────────┤\n",
              "│ dense (\u001b[38;5;33mDense\u001b[0m)                        │ (\u001b[38;5;45mNone\u001b[0m, \u001b[38;5;34m512\u001b[0m)                 │       \u001b[38;5;34m1,049,088\u001b[0m │\n",
              "├──────────────────────────────────────┼─────────────────────────────┼─────────────────┤\n",
              "│ dropout (\u001b[38;5;33mDropout\u001b[0m)                    │ (\u001b[38;5;45mNone\u001b[0m, \u001b[38;5;34m512\u001b[0m)                 │               \u001b[38;5;34m0\u001b[0m │\n",
              "├──────────────────────────────────────┼─────────────────────────────┼─────────────────┤\n",
              "│ batch_normalization_5                │ (\u001b[38;5;45mNone\u001b[0m, \u001b[38;5;34m512\u001b[0m)                 │           \u001b[38;5;34m2,048\u001b[0m │\n",
              "│ (\u001b[38;5;33mBatchNormalization\u001b[0m)                 │                             │                 │\n",
              "├──────────────────────────────────────┼─────────────────────────────┼─────────────────┤\n",
              "│ dense_1 (\u001b[38;5;33mDense\u001b[0m)                      │ (\u001b[38;5;45mNone\u001b[0m, \u001b[38;5;34m11\u001b[0m)                  │           \u001b[38;5;34m5,643\u001b[0m │\n",
              "└──────────────────────────────────────┴─────────────────────────────┴─────────────────┘\n"
            ],
            "text/html": [
              "<pre style=\"white-space:pre;overflow-x:auto;line-height:normal;font-family:Menlo,'DejaVu Sans Mono',consolas,'Courier New',monospace\">┏━━━━━━━━━━━━━━━━━━━━━━━━━━━━━━━━━━━━━━┳━━━━━━━━━━━━━━━━━━━━━━━━━━━━━┳━━━━━━━━━━━━━━━━━┓\n",
              "┃<span style=\"font-weight: bold\"> Layer (type)                         </span>┃<span style=\"font-weight: bold\"> Output Shape                </span>┃<span style=\"font-weight: bold\">         Param # </span>┃\n",
              "┡━━━━━━━━━━━━━━━━━━━━━━━━━━━━━━━━━━━━━━╇━━━━━━━━━━━━━━━━━━━━━━━━━━━━━╇━━━━━━━━━━━━━━━━━┩\n",
              "│ xception (<span style=\"color: #0087ff; text-decoration-color: #0087ff\">Functional</span>)                │ (<span style=\"color: #00d7ff; text-decoration-color: #00d7ff\">None</span>, <span style=\"color: #00af00; text-decoration-color: #00af00\">10</span>, <span style=\"color: #00af00; text-decoration-color: #00af00\">10</span>, <span style=\"color: #00af00; text-decoration-color: #00af00\">2048</span>)        │      <span style=\"color: #00af00; text-decoration-color: #00af00\">20,861,480</span> │\n",
              "├──────────────────────────────────────┼─────────────────────────────┼─────────────────┤\n",
              "│ spatial_dropout2d (<span style=\"color: #0087ff; text-decoration-color: #0087ff\">SpatialDropout2D</span>) │ (<span style=\"color: #00d7ff; text-decoration-color: #00d7ff\">None</span>, <span style=\"color: #00af00; text-decoration-color: #00af00\">10</span>, <span style=\"color: #00af00; text-decoration-color: #00af00\">10</span>, <span style=\"color: #00af00; text-decoration-color: #00af00\">2048</span>)        │               <span style=\"color: #00af00; text-decoration-color: #00af00\">0</span> │\n",
              "├──────────────────────────────────────┼─────────────────────────────┼─────────────────┤\n",
              "│ global_average_pooling2d             │ (<span style=\"color: #00d7ff; text-decoration-color: #00d7ff\">None</span>, <span style=\"color: #00af00; text-decoration-color: #00af00\">2048</span>)                │               <span style=\"color: #00af00; text-decoration-color: #00af00\">0</span> │\n",
              "│ (<span style=\"color: #0087ff; text-decoration-color: #0087ff\">GlobalAveragePooling2D</span>)             │                             │                 │\n",
              "├──────────────────────────────────────┼─────────────────────────────┼─────────────────┤\n",
              "│ batch_normalization_4                │ (<span style=\"color: #00d7ff; text-decoration-color: #00d7ff\">None</span>, <span style=\"color: #00af00; text-decoration-color: #00af00\">2048</span>)                │           <span style=\"color: #00af00; text-decoration-color: #00af00\">8,192</span> │\n",
              "│ (<span style=\"color: #0087ff; text-decoration-color: #0087ff\">BatchNormalization</span>)                 │                             │                 │\n",
              "├──────────────────────────────────────┼─────────────────────────────┼─────────────────┤\n",
              "│ dense (<span style=\"color: #0087ff; text-decoration-color: #0087ff\">Dense</span>)                        │ (<span style=\"color: #00d7ff; text-decoration-color: #00d7ff\">None</span>, <span style=\"color: #00af00; text-decoration-color: #00af00\">512</span>)                 │       <span style=\"color: #00af00; text-decoration-color: #00af00\">1,049,088</span> │\n",
              "├──────────────────────────────────────┼─────────────────────────────┼─────────────────┤\n",
              "│ dropout (<span style=\"color: #0087ff; text-decoration-color: #0087ff\">Dropout</span>)                    │ (<span style=\"color: #00d7ff; text-decoration-color: #00d7ff\">None</span>, <span style=\"color: #00af00; text-decoration-color: #00af00\">512</span>)                 │               <span style=\"color: #00af00; text-decoration-color: #00af00\">0</span> │\n",
              "├──────────────────────────────────────┼─────────────────────────────┼─────────────────┤\n",
              "│ batch_normalization_5                │ (<span style=\"color: #00d7ff; text-decoration-color: #00d7ff\">None</span>, <span style=\"color: #00af00; text-decoration-color: #00af00\">512</span>)                 │           <span style=\"color: #00af00; text-decoration-color: #00af00\">2,048</span> │\n",
              "│ (<span style=\"color: #0087ff; text-decoration-color: #0087ff\">BatchNormalization</span>)                 │                             │                 │\n",
              "├──────────────────────────────────────┼─────────────────────────────┼─────────────────┤\n",
              "│ dense_1 (<span style=\"color: #0087ff; text-decoration-color: #0087ff\">Dense</span>)                      │ (<span style=\"color: #00d7ff; text-decoration-color: #00d7ff\">None</span>, <span style=\"color: #00af00; text-decoration-color: #00af00\">11</span>)                  │           <span style=\"color: #00af00; text-decoration-color: #00af00\">5,643</span> │\n",
              "└──────────────────────────────────────┴─────────────────────────────┴─────────────────┘\n",
              "</pre>\n"
            ]
          },
          "metadata": {}
        },
        {
          "output_type": "display_data",
          "data": {
            "text/plain": [
              "\u001b[1m Total params: \u001b[0m\u001b[38;5;34m21,926,451\u001b[0m (83.64 MB)\n"
            ],
            "text/html": [
              "<pre style=\"white-space:pre;overflow-x:auto;line-height:normal;font-family:Menlo,'DejaVu Sans Mono',consolas,'Courier New',monospace\"><span style=\"font-weight: bold\"> Total params: </span><span style=\"color: #00af00; text-decoration-color: #00af00\">21,926,451</span> (83.64 MB)\n",
              "</pre>\n"
            ]
          },
          "metadata": {}
        },
        {
          "output_type": "display_data",
          "data": {
            "text/plain": [
              "\u001b[1m Trainable params: \u001b[0m\u001b[38;5;34m1,059,851\u001b[0m (4.04 MB)\n"
            ],
            "text/html": [
              "<pre style=\"white-space:pre;overflow-x:auto;line-height:normal;font-family:Menlo,'DejaVu Sans Mono',consolas,'Courier New',monospace\"><span style=\"font-weight: bold\"> Trainable params: </span><span style=\"color: #00af00; text-decoration-color: #00af00\">1,059,851</span> (4.04 MB)\n",
              "</pre>\n"
            ]
          },
          "metadata": {}
        },
        {
          "output_type": "display_data",
          "data": {
            "text/plain": [
              "\u001b[1m Non-trainable params: \u001b[0m\u001b[38;5;34m20,866,600\u001b[0m (79.60 MB)\n"
            ],
            "text/html": [
              "<pre style=\"white-space:pre;overflow-x:auto;line-height:normal;font-family:Menlo,'DejaVu Sans Mono',consolas,'Courier New',monospace\"><span style=\"font-weight: bold\"> Non-trainable params: </span><span style=\"color: #00af00; text-decoration-color: #00af00\">20,866,600</span> (79.60 MB)\n",
              "</pre>\n"
            ]
          },
          "metadata": {}
        },
        {
          "output_type": "stream",
          "name": "stderr",
          "text": [
            "/usr/local/lib/python3.10/dist-packages/PIL/Image.py:1054: UserWarning: Palette images with Transparency expressed in bytes should be converted to RGBA images\n",
            "  warnings.warn(\n"
          ]
        },
        {
          "output_type": "stream",
          "name": "stdout",
          "text": [
            "Epoch 1/100\n"
          ]
        },
        {
          "output_type": "stream",
          "name": "stderr",
          "text": [
            "/usr/local/lib/python3.10/dist-packages/keras/src/trainers/data_adapters/py_dataset_adapter.py:122: UserWarning: Your `PyDataset` class should call `super().__init__(**kwargs)` in its constructor. `**kwargs` can include `workers`, `use_multiprocessing`, `max_queue_size`. Do not pass these arguments to `fit()`, as they will be ignored.\n",
            "  self._warn_if_super_not_called()\n"
          ]
        },
        {
          "output_type": "stream",
          "name": "stdout",
          "text": [
            "\u001b[1m56/56\u001b[0m \u001b[32m━━━━━━━━━━━━━━━━━━━━\u001b[0m\u001b[37m\u001b[0m \u001b[1m1085s\u001b[0m 17s/step - accuracy: 0.4218 - loss: 21.1429 - val_accuracy: 0.7835 - val_loss: 0.9361 - learning_rate: 0.0010\n",
            "Epoch 2/100\n",
            "\u001b[1m56/56\u001b[0m \u001b[32m━━━━━━━━━━━━━━━━━━━━\u001b[0m\u001b[37m\u001b[0m \u001b[1m53s\u001b[0m 836ms/step - accuracy: 0.7154 - loss: 9.4694 - val_accuracy: 0.8281 - val_loss: 0.6956 - learning_rate: 0.0010\n",
            "Epoch 3/100\n",
            "\u001b[1m56/56\u001b[0m \u001b[32m━━━━━━━━━━━━━━━━━━━━\u001b[0m\u001b[37m\u001b[0m \u001b[1m53s\u001b[0m 834ms/step - accuracy: 0.7495 - loss: 8.3300 - val_accuracy: 0.8482 - val_loss: 0.5855 - learning_rate: 0.0010\n",
            "Epoch 4/100\n",
            "\u001b[1m56/56\u001b[0m \u001b[32m━━━━━━━━━━━━━━━━━━━━\u001b[0m\u001b[37m\u001b[0m \u001b[1m54s\u001b[0m 864ms/step - accuracy: 0.7970 - loss: 6.3692 - val_accuracy: 0.8616 - val_loss: 0.5246 - learning_rate: 0.0010\n",
            "Epoch 5/100\n",
            "\u001b[1m56/56\u001b[0m \u001b[32m━━━━━━━━━━━━━━━━━━━━\u001b[0m\u001b[37m\u001b[0m \u001b[1m52s\u001b[0m 834ms/step - accuracy: 0.7813 - loss: 6.5839 - val_accuracy: 0.8571 - val_loss: 0.5019 - learning_rate: 0.0010\n",
            "Epoch 6/100\n",
            "\u001b[1m56/56\u001b[0m \u001b[32m━━━━━━━━━━━━━━━━━━━━\u001b[0m\u001b[37m\u001b[0m \u001b[1m83s\u001b[0m 848ms/step - accuracy: 0.7941 - loss: 7.3173 - val_accuracy: 0.8594 - val_loss: 0.4884 - learning_rate: 0.0010\n",
            "Epoch 7/100\n",
            "\u001b[1m56/56\u001b[0m \u001b[32m━━━━━━━━━━━━━━━━━━━━\u001b[0m\u001b[37m\u001b[0m \u001b[1m82s\u001b[0m 824ms/step - accuracy: 0.8086 - loss: 5.6320 - val_accuracy: 0.8549 - val_loss: 0.4983 - learning_rate: 0.0010\n",
            "Epoch 8/100\n",
            "\u001b[1m56/56\u001b[0m \u001b[32m━━━━━━━━━━━━━━━━━━━━\u001b[0m\u001b[37m\u001b[0m \u001b[1m83s\u001b[0m 831ms/step - accuracy: 0.8086 - loss: 5.7172 - val_accuracy: 0.8638 - val_loss: 0.4796 - learning_rate: 0.0010\n",
            "Epoch 9/100\n",
            "\u001b[1m56/56\u001b[0m \u001b[32m━━━━━━━━━━━━━━━━━━━━\u001b[0m\u001b[37m\u001b[0m \u001b[1m82s\u001b[0m 833ms/step - accuracy: 0.8197 - loss: 5.8604 - val_accuracy: 0.8705 - val_loss: 0.5000 - learning_rate: 0.0010\n",
            "Epoch 10/100\n",
            "\u001b[1m56/56\u001b[0m \u001b[32m━━━━━━━━━━━━━━━━━━━━\u001b[0m\u001b[37m\u001b[0m \u001b[1m53s\u001b[0m 831ms/step - accuracy: 0.8233 - loss: 5.8679 - val_accuracy: 0.8705 - val_loss: 0.5210 - learning_rate: 0.0010\n",
            "Epoch 11/100\n",
            "\u001b[1m56/56\u001b[0m \u001b[32m━━━━━━━━━━━━━━━━━━━━\u001b[0m\u001b[37m\u001b[0m \u001b[1m82s\u001b[0m 832ms/step - accuracy: 0.8258 - loss: 5.5390 - val_accuracy: 0.8616 - val_loss: 0.5367 - learning_rate: 0.0010\n",
            "Epoch 12/100\n",
            "\u001b[1m56/56\u001b[0m \u001b[32m━━━━━━━━━━━━━━━━━━━━\u001b[0m\u001b[37m\u001b[0m \u001b[1m82s\u001b[0m 841ms/step - accuracy: 0.8342 - loss: 5.5369 - val_accuracy: 0.8705 - val_loss: 0.5031 - learning_rate: 0.0010\n",
            "Epoch 13/100\n",
            "\u001b[1m56/56\u001b[0m \u001b[32m━━━━━━━━━━━━━━━━━━━━\u001b[0m\u001b[37m\u001b[0m \u001b[1m0s\u001b[0m 760ms/step - accuracy: 0.8547 - loss: 4.4106\n",
            "Epoch 13: ReduceLROnPlateau reducing learning rate to 0.0005000000237487257.\n",
            "\u001b[1m56/56\u001b[0m \u001b[32m━━━━━━━━━━━━━━━━━━━━\u001b[0m\u001b[37m\u001b[0m \u001b[1m52s\u001b[0m 817ms/step - accuracy: 0.8545 - loss: 4.4171 - val_accuracy: 0.8750 - val_loss: 0.5009 - learning_rate: 0.0010\n",
            "Epoch 14/100\n",
            "\u001b[1m56/56\u001b[0m \u001b[32m━━━━━━━━━━━━━━━━━━━━\u001b[0m\u001b[37m\u001b[0m \u001b[1m83s\u001b[0m 835ms/step - accuracy: 0.8523 - loss: 4.7670 - val_accuracy: 0.8705 - val_loss: 0.4908 - learning_rate: 5.0000e-04\n",
            "Epoch 15/100\n",
            "\u001b[1m56/56\u001b[0m \u001b[32m━━━━━━━━━━━━━━━━━━━━\u001b[0m\u001b[37m\u001b[0m \u001b[1m82s\u001b[0m 833ms/step - accuracy: 0.8344 - loss: 4.7003 - val_accuracy: 0.8795 - val_loss: 0.4796 - learning_rate: 5.0000e-04\n",
            "Epoch 16/100\n",
            "\u001b[1m56/56\u001b[0m \u001b[32m━━━━━━━━━━━━━━━━━━━━\u001b[0m\u001b[37m\u001b[0m \u001b[1m81s\u001b[0m 838ms/step - accuracy: 0.8543 - loss: 4.6288 - val_accuracy: 0.8795 - val_loss: 0.4703 - learning_rate: 5.0000e-04\n",
            "Epoch 17/100\n",
            "\u001b[1m56/56\u001b[0m \u001b[32m━━━━━━━━━━━━━━━━━━━━\u001b[0m\u001b[37m\u001b[0m \u001b[1m82s\u001b[0m 845ms/step - accuracy: 0.8499 - loss: 4.3397 - val_accuracy: 0.8795 - val_loss: 0.4730 - learning_rate: 5.0000e-04\n",
            "Epoch 18/100\n",
            "\u001b[1m56/56\u001b[0m \u001b[32m━━━━━━━━━━━━━━━━━━━━\u001b[0m\u001b[37m\u001b[0m \u001b[1m83s\u001b[0m 861ms/step - accuracy: 0.8399 - loss: 4.7373 - val_accuracy: 0.8884 - val_loss: 0.4578 - learning_rate: 5.0000e-04\n",
            "Epoch 19/100\n",
            "\u001b[1m56/56\u001b[0m \u001b[32m━━━━━━━━━━━━━━━━━━━━\u001b[0m\u001b[37m\u001b[0m \u001b[1m54s\u001b[0m 875ms/step - accuracy: 0.8558 - loss: 3.8934 - val_accuracy: 0.8817 - val_loss: 0.4496 - learning_rate: 5.0000e-04\n",
            "Epoch 20/100\n",
            "\u001b[1m56/56\u001b[0m \u001b[32m━━━━━━━━━━━━━━━━━━━━\u001b[0m\u001b[37m\u001b[0m \u001b[1m81s\u001b[0m 868ms/step - accuracy: 0.8574 - loss: 4.4010 - val_accuracy: 0.8839 - val_loss: 0.4446 - learning_rate: 5.0000e-04\n",
            "Epoch 21/100\n",
            "\u001b[1m56/56\u001b[0m \u001b[32m━━━━━━━━━━━━━━━━━━━━\u001b[0m\u001b[37m\u001b[0m \u001b[1m52s\u001b[0m 831ms/step - accuracy: 0.8580 - loss: 3.9789 - val_accuracy: 0.8884 - val_loss: 0.4399 - learning_rate: 5.0000e-04\n",
            "Epoch 22/100\n",
            "\u001b[1m56/56\u001b[0m \u001b[32m━━━━━━━━━━━━━━━━━━━━\u001b[0m\u001b[37m\u001b[0m \u001b[1m84s\u001b[0m 876ms/step - accuracy: 0.8772 - loss: 3.6146 - val_accuracy: 0.8795 - val_loss: 0.4377 - learning_rate: 5.0000e-04\n",
            "Epoch 23/100\n",
            "\u001b[1m56/56\u001b[0m \u001b[32m━━━━━━━━━━━━━━━━━━━━\u001b[0m\u001b[37m\u001b[0m \u001b[1m82s\u001b[0m 867ms/step - accuracy: 0.8551 - loss: 4.2053 - val_accuracy: 0.8817 - val_loss: 0.4354 - learning_rate: 5.0000e-04\n",
            "Epoch 24/100\n",
            "\u001b[1m56/56\u001b[0m \u001b[32m━━━━━━━━━━━━━━━━━━━━\u001b[0m\u001b[37m\u001b[0m \u001b[1m56s\u001b[0m 901ms/step - accuracy: 0.8801 - loss: 3.5422 - val_accuracy: 0.8795 - val_loss: 0.4381 - learning_rate: 5.0000e-04\n",
            "Epoch 25/100\n",
            "\u001b[1m56/56\u001b[0m \u001b[32m━━━━━━━━━━━━━━━━━━━━\u001b[0m\u001b[37m\u001b[0m \u001b[1m55s\u001b[0m 883ms/step - accuracy: 0.8691 - loss: 3.7234 - val_accuracy: 0.8817 - val_loss: 0.4390 - learning_rate: 5.0000e-04\n",
            "Epoch 26/100\n",
            "\u001b[1m56/56\u001b[0m \u001b[32m━━━━━━━━━━━━━━━━━━━━\u001b[0m\u001b[37m\u001b[0m \u001b[1m54s\u001b[0m 892ms/step - accuracy: 0.8764 - loss: 3.8307 - val_accuracy: 0.8772 - val_loss: 0.4350 - learning_rate: 5.0000e-04\n",
            "Epoch 27/100\n",
            "\u001b[1m56/56\u001b[0m \u001b[32m━━━━━━━━━━━━━━━━━━━━\u001b[0m\u001b[37m\u001b[0m \u001b[1m80s\u001b[0m 851ms/step - accuracy: 0.8598 - loss: 3.7098 - val_accuracy: 0.8839 - val_loss: 0.4292 - learning_rate: 5.0000e-04\n",
            "Epoch 28/100\n",
            "\u001b[1m56/56\u001b[0m \u001b[32m━━━━━━━━━━━━━━━━━━━━\u001b[0m\u001b[37m\u001b[0m \u001b[1m82s\u001b[0m 860ms/step - accuracy: 0.8940 - loss: 3.5703 - val_accuracy: 0.8839 - val_loss: 0.4371 - learning_rate: 5.0000e-04\n",
            "Epoch 29/100\n",
            "\u001b[1m56/56\u001b[0m \u001b[32m━━━━━━━━━━━━━━━━━━━━\u001b[0m\u001b[37m\u001b[0m \u001b[1m81s\u001b[0m 863ms/step - accuracy: 0.8639 - loss: 3.7157 - val_accuracy: 0.8862 - val_loss: 0.4394 - learning_rate: 5.0000e-04\n",
            "Epoch 30/100\n",
            "\u001b[1m56/56\u001b[0m \u001b[32m━━━━━━━━━━━━━━━━━━━━\u001b[0m\u001b[37m\u001b[0m \u001b[1m52s\u001b[0m 839ms/step - accuracy: 0.8829 - loss: 3.5478 - val_accuracy: 0.8817 - val_loss: 0.4334 - learning_rate: 5.0000e-04\n",
            "Epoch 31/100\n",
            "\u001b[1m56/56\u001b[0m \u001b[32m━━━━━━━━━━━━━━━━━━━━\u001b[0m\u001b[37m\u001b[0m \u001b[1m53s\u001b[0m 829ms/step - accuracy: 0.8765 - loss: 3.7861 - val_accuracy: 0.8817 - val_loss: 0.4384 - learning_rate: 5.0000e-04\n",
            "Epoch 32/100\n",
            "\u001b[1m56/56\u001b[0m \u001b[32m━━━━━━━━━━━━━━━━━━━━\u001b[0m\u001b[37m\u001b[0m \u001b[1m0s\u001b[0m 781ms/step - accuracy: 0.8874 - loss: 2.9405\n",
            "Epoch 32: ReduceLROnPlateau reducing learning rate to 0.0002500000118743628.\n",
            "\u001b[1m56/56\u001b[0m \u001b[32m━━━━━━━━━━━━━━━━━━━━\u001b[0m\u001b[37m\u001b[0m \u001b[1m54s\u001b[0m 839ms/step - accuracy: 0.8873 - loss: 2.9467 - val_accuracy: 0.8862 - val_loss: 0.4351 - learning_rate: 5.0000e-04\n",
            "Epoch 33/100\n",
            "\u001b[1m56/56\u001b[0m \u001b[32m━━━━━━━━━━━━━━━━━━━━\u001b[0m\u001b[37m\u001b[0m \u001b[1m53s\u001b[0m 855ms/step - accuracy: 0.8794 - loss: 3.6231 - val_accuracy: 0.8862 - val_loss: 0.4316 - learning_rate: 2.5000e-04\n",
            "Epoch 34/100\n",
            "\u001b[1m56/56\u001b[0m \u001b[32m━━━━━━━━━━━━━━━━━━━━\u001b[0m\u001b[37m\u001b[0m \u001b[1m82s\u001b[0m 847ms/step - accuracy: 0.8537 - loss: 4.0332 - val_accuracy: 0.8929 - val_loss: 0.4338 - learning_rate: 2.5000e-04\n",
            "Epoch 35/100\n",
            "\u001b[1m56/56\u001b[0m \u001b[32m━━━━━━━━━━━━━━━━━━━━\u001b[0m\u001b[37m\u001b[0m \u001b[1m83s\u001b[0m 855ms/step - accuracy: 0.8532 - loss: 3.9280 - val_accuracy: 0.8817 - val_loss: 0.4350 - learning_rate: 2.5000e-04\n",
            "Epoch 36/100\n",
            "\u001b[1m56/56\u001b[0m \u001b[32m━━━━━━━━━━━━━━━━━━━━\u001b[0m\u001b[37m\u001b[0m \u001b[1m56s\u001b[0m 892ms/step - accuracy: 0.8704 - loss: 3.8452 - val_accuracy: 0.8839 - val_loss: 0.4306 - learning_rate: 2.5000e-04\n",
            "Epoch 37/100\n",
            "\u001b[1m56/56\u001b[0m \u001b[32m━━━━━━━━━━━━━━━━━━━━\u001b[0m\u001b[37m\u001b[0m \u001b[1m80s\u001b[0m 851ms/step - accuracy: 0.8969 - loss: 3.3157 - val_accuracy: 0.8862 - val_loss: 0.4263 - learning_rate: 2.5000e-04\n",
            "Epoch 38/100\n",
            "\u001b[1m56/56\u001b[0m \u001b[32m━━━━━━━━━━━━━━━━━━━━\u001b[0m\u001b[37m\u001b[0m \u001b[1m54s\u001b[0m 861ms/step - accuracy: 0.8714 - loss: 3.9408 - val_accuracy: 0.8884 - val_loss: 0.4215 - learning_rate: 2.5000e-04\n",
            "Epoch 39/100\n",
            "\u001b[1m56/56\u001b[0m \u001b[32m━━━━━━━━━━━━━━━━━━━━\u001b[0m\u001b[37m\u001b[0m \u001b[1m54s\u001b[0m 862ms/step - accuracy: 0.8865 - loss: 3.4083 - val_accuracy: 0.8929 - val_loss: 0.4262 - learning_rate: 2.5000e-04\n",
            "Epoch 40/100\n",
            "\u001b[1m56/56\u001b[0m \u001b[32m━━━━━━━━━━━━━━━━━━━━\u001b[0m\u001b[37m\u001b[0m \u001b[1m53s\u001b[0m 852ms/step - accuracy: 0.8910 - loss: 3.4097 - val_accuracy: 0.8951 - val_loss: 0.4245 - learning_rate: 2.5000e-04\n",
            "Epoch 41/100\n",
            "\u001b[1m56/56\u001b[0m \u001b[32m━━━━━━━━━━━━━━━━━━━━\u001b[0m\u001b[37m\u001b[0m \u001b[1m83s\u001b[0m 861ms/step - accuracy: 0.8828 - loss: 3.3521 - val_accuracy: 0.8884 - val_loss: 0.4266 - learning_rate: 2.5000e-04\n",
            "Epoch 42/100\n",
            "\u001b[1m56/56\u001b[0m \u001b[32m━━━━━━━━━━━━━━━━━━━━\u001b[0m\u001b[37m\u001b[0m \u001b[1m55s\u001b[0m 892ms/step - accuracy: 0.8906 - loss: 3.1970 - val_accuracy: 0.8862 - val_loss: 0.4291 - learning_rate: 2.5000e-04\n",
            "Epoch 43/100\n",
            "\u001b[1m56/56\u001b[0m \u001b[32m━━━━━━━━━━━━━━━━━━━━\u001b[0m\u001b[37m\u001b[0m \u001b[1m0s\u001b[0m 823ms/step - accuracy: 0.8968 - loss: 3.1353\n",
            "Epoch 43: ReduceLROnPlateau reducing learning rate to 0.0001250000059371814.\n",
            "\u001b[1m56/56\u001b[0m \u001b[32m━━━━━━━━━━━━━━━━━━━━\u001b[0m\u001b[37m\u001b[0m \u001b[1m83s\u001b[0m 906ms/step - accuracy: 0.8967 - loss: 3.1359 - val_accuracy: 0.8884 - val_loss: 0.4333 - learning_rate: 2.5000e-04\n",
            "Epoch 44/100\n",
            "\u001b[1m56/56\u001b[0m \u001b[32m━━━━━━━━━━━━━━━━━━━━\u001b[0m\u001b[37m\u001b[0m \u001b[1m84s\u001b[0m 930ms/step - accuracy: 0.8819 - loss: 3.2994 - val_accuracy: 0.8929 - val_loss: 0.4293 - learning_rate: 1.2500e-04\n",
            "Epoch 45/100\n",
            "\u001b[1m56/56\u001b[0m \u001b[32m━━━━━━━━━━━━━━━━━━━━\u001b[0m\u001b[37m\u001b[0m \u001b[1m81s\u001b[0m 913ms/step - accuracy: 0.9070 - loss: 2.8190 - val_accuracy: 0.8906 - val_loss: 0.4281 - learning_rate: 1.2500e-04\n",
            "Epoch 46/100\n",
            "\u001b[1m56/56\u001b[0m \u001b[32m━━━━━━━━━━━━━━━━━━━━\u001b[0m\u001b[37m\u001b[0m \u001b[1m57s\u001b[0m 903ms/step - accuracy: 0.8805 - loss: 3.5515 - val_accuracy: 0.8929 - val_loss: 0.4242 - learning_rate: 1.2500e-04\n",
            "Epoch 47/100\n",
            "\u001b[1m56/56\u001b[0m \u001b[32m━━━━━━━━━━━━━━━━━━━━\u001b[0m\u001b[37m\u001b[0m \u001b[1m78s\u001b[0m 863ms/step - accuracy: 0.9065 - loss: 3.1542 - val_accuracy: 0.8884 - val_loss: 0.4224 - learning_rate: 1.2500e-04\n",
            "Epoch 48/100\n",
            "\u001b[1m56/56\u001b[0m \u001b[32m━━━━━━━━━━━━━━━━━━━━\u001b[0m\u001b[37m\u001b[0m \u001b[1m0s\u001b[0m 773ms/step - accuracy: 0.8849 - loss: 3.1770\n",
            "Epoch 48: ReduceLROnPlateau reducing learning rate to 6.25000029685907e-05.\n",
            "\u001b[1m56/56\u001b[0m \u001b[32m━━━━━━━━━━━━━━━━━━━━\u001b[0m\u001b[37m\u001b[0m \u001b[1m82s\u001b[0m 851ms/step - accuracy: 0.8851 - loss: 3.1772 - val_accuracy: 0.8906 - val_loss: 0.4242 - learning_rate: 1.2500e-04\n",
            "Epoch 1/20\n",
            "\u001b[1m56/56\u001b[0m \u001b[32m━━━━━━━━━━━━━━━━━━━━\u001b[0m\u001b[37m\u001b[0m \u001b[1m92s\u001b[0m 1s/step - accuracy: 0.8247 - loss: 0.5206 - val_accuracy: 0.8996 - val_loss: 0.4148 - learning_rate: 1.0000e-05\n",
            "Epoch 2/20\n",
            "\u001b[1m56/56\u001b[0m \u001b[32m━━━━━━━━━━━━━━━━━━━━\u001b[0m\u001b[37m\u001b[0m \u001b[1m57s\u001b[0m 896ms/step - accuracy: 0.8425 - loss: 0.4582 - val_accuracy: 0.8951 - val_loss: 0.4213 - learning_rate: 1.0000e-05\n",
            "Epoch 3/20\n",
            "\u001b[1m56/56\u001b[0m \u001b[32m━━━━━━━━━━━━━━━━━━━━\u001b[0m\u001b[37m\u001b[0m \u001b[1m83s\u001b[0m 917ms/step - accuracy: 0.8594 - loss: 0.4443 - val_accuracy: 0.8951 - val_loss: 0.4214 - learning_rate: 1.0000e-05\n",
            "Epoch 4/20\n",
            "\u001b[1m56/56\u001b[0m \u001b[32m━━━━━━━━━━━━━━━━━━━━\u001b[0m\u001b[37m\u001b[0m \u001b[1m56s\u001b[0m 883ms/step - accuracy: 0.8519 - loss: 0.4242 - val_accuracy: 0.8929 - val_loss: 0.4154 - learning_rate: 1.0000e-05\n",
            "Epoch 5/20\n",
            "\u001b[1m56/56\u001b[0m \u001b[32m━━━━━━━━━━━━━━━━━━━━\u001b[0m\u001b[37m\u001b[0m \u001b[1m56s\u001b[0m 898ms/step - accuracy: 0.8542 - loss: 0.4494 - val_accuracy: 0.8951 - val_loss: 0.4148 - learning_rate: 1.0000e-05\n",
            "Epoch 6/20\n",
            "\u001b[1m56/56\u001b[0m \u001b[32m━━━━━━━━━━━━━━━━━━━━\u001b[0m\u001b[37m\u001b[0m \u001b[1m86s\u001b[0m 974ms/step - accuracy: 0.8592 - loss: 0.3941 - val_accuracy: 0.8929 - val_loss: 0.4137 - learning_rate: 1.0000e-05\n",
            "Epoch 7/20\n",
            "\u001b[1m56/56\u001b[0m \u001b[32m━━━━━━━━━━━━━━━━━━━━\u001b[0m\u001b[37m\u001b[0m \u001b[1m57s\u001b[0m 927ms/step - accuracy: 0.8755 - loss: 0.3815 - val_accuracy: 0.8951 - val_loss: 0.4115 - learning_rate: 1.0000e-05\n",
            "Epoch 8/20\n",
            "\u001b[1m56/56\u001b[0m \u001b[32m━━━━━━━━━━━━━━━━━━━━\u001b[0m\u001b[37m\u001b[0m \u001b[1m56s\u001b[0m 906ms/step - accuracy: 0.8546 - loss: 0.4030 - val_accuracy: 0.8973 - val_loss: 0.4142 - learning_rate: 1.0000e-05\n",
            "Epoch 9/20\n",
            "\u001b[1m56/56\u001b[0m \u001b[32m━━━━━━━━━━━━━━━━━━━━\u001b[0m\u001b[37m\u001b[0m \u001b[1m56s\u001b[0m 895ms/step - accuracy: 0.8704 - loss: 0.3672 - val_accuracy: 0.9018 - val_loss: 0.4109 - learning_rate: 1.0000e-05\n",
            "Epoch 10/20\n",
            "\u001b[1m56/56\u001b[0m \u001b[32m━━━━━━━━━━━━━━━━━━━━\u001b[0m\u001b[37m\u001b[0m \u001b[1m82s\u001b[0m 907ms/step - accuracy: 0.8904 - loss: 0.3197 - val_accuracy: 0.8996 - val_loss: 0.4103 - learning_rate: 1.0000e-05\n",
            "Epoch 11/20\n",
            "\u001b[1m56/56\u001b[0m \u001b[32m━━━━━━━━━━━━━━━━━━━━\u001b[0m\u001b[37m\u001b[0m \u001b[1m57s\u001b[0m 916ms/step - accuracy: 0.8999 - loss: 0.2986 - val_accuracy: 0.9018 - val_loss: 0.4075 - learning_rate: 1.0000e-05\n",
            "Epoch 12/20\n",
            "\u001b[1m56/56\u001b[0m \u001b[32m━━━━━━━━━━━━━━━━━━━━\u001b[0m\u001b[37m\u001b[0m \u001b[1m82s\u001b[0m 917ms/step - accuracy: 0.8794 - loss: 0.3570 - val_accuracy: 0.9040 - val_loss: 0.4045 - learning_rate: 1.0000e-05\n",
            "Epoch 13/20\n",
            "\u001b[1m56/56\u001b[0m \u001b[32m━━━━━━━━━━━━━━━━━━━━\u001b[0m\u001b[37m\u001b[0m \u001b[1m81s\u001b[0m 908ms/step - accuracy: 0.8902 - loss: 0.3230 - val_accuracy: 0.9018 - val_loss: 0.4004 - learning_rate: 1.0000e-05\n",
            "Epoch 14/20\n",
            "\u001b[1m56/56\u001b[0m \u001b[32m━━━━━━━━━━━━━━━━━━━━\u001b[0m\u001b[37m\u001b[0m \u001b[1m55s\u001b[0m 892ms/step - accuracy: 0.8989 - loss: 0.3107 - val_accuracy: 0.8996 - val_loss: 0.4007 - learning_rate: 1.0000e-05\n",
            "Epoch 15/20\n",
            "\u001b[1m56/56\u001b[0m \u001b[32m━━━━━━━━━━━━━━━━━━━━\u001b[0m\u001b[37m\u001b[0m \u001b[1m81s\u001b[0m 893ms/step - accuracy: 0.9028 - loss: 0.2899 - val_accuracy: 0.9018 - val_loss: 0.4004 - learning_rate: 1.0000e-05\n",
            "Epoch 16/20\n",
            "\u001b[1m56/56\u001b[0m \u001b[32m━━━━━━━━━━━━━━━━━━━━\u001b[0m\u001b[37m\u001b[0m \u001b[1m83s\u001b[0m 888ms/step - accuracy: 0.9034 - loss: 0.2862 - val_accuracy: 0.9062 - val_loss: 0.3981 - learning_rate: 1.0000e-05\n",
            "Epoch 17/20\n",
            "\u001b[1m56/56\u001b[0m \u001b[32m━━━━━━━━━━━━━━━━━━━━\u001b[0m\u001b[37m\u001b[0m \u001b[1m54s\u001b[0m 878ms/step - accuracy: 0.9018 - loss: 0.2867 - val_accuracy: 0.9062 - val_loss: 0.3982 - learning_rate: 1.0000e-05\n",
            "Epoch 18/20\n",
            "\u001b[1m56/56\u001b[0m \u001b[32m━━━━━━━━━━━━━━━━━━━━\u001b[0m\u001b[37m\u001b[0m \u001b[1m55s\u001b[0m 891ms/step - accuracy: 0.9010 - loss: 0.2895 - val_accuracy: 0.9085 - val_loss: 0.3972 - learning_rate: 1.0000e-05\n",
            "Epoch 19/20\n",
            "\u001b[1m56/56\u001b[0m \u001b[32m━━━━━━━━━━━━━━━━━━━━\u001b[0m\u001b[37m\u001b[0m \u001b[1m55s\u001b[0m 889ms/step - accuracy: 0.9104 - loss: 0.2666 - val_accuracy: 0.9062 - val_loss: 0.3972 - learning_rate: 1.0000e-05\n",
            "Epoch 20/20\n",
            "\u001b[1m56/56\u001b[0m \u001b[32m━━━━━━━━━━━━━━━━━━━━\u001b[0m\u001b[37m\u001b[0m \u001b[1m82s\u001b[0m 887ms/step - accuracy: 0.8962 - loss: 0.3206 - val_accuracy: 0.9085 - val_loss: 0.3955 - learning_rate: 1.0000e-05\n"
          ]
        }
      ],
      "source": [
        "\n",
        "# Define the Xception model\n",
        "base_model = Xception(weights='imagenet', include_top=False, input_shape=(299, 299, 3))\n",
        "base_model.trainable = False  # Freeze the base model\n",
        "\n",
        "# Add custom classification layers\n",
        "model = models.Sequential([\n",
        "    base_model,\n",
        "    layers.SpatialDropout2D(0.4),\n",
        "    layers.GlobalAveragePooling2D(),\n",
        "    layers.BatchNormalization(),\n",
        "    layers.Dense(512, activation='swish'),\n",
        "    layers.Dropout(0.4),\n",
        "    layers.BatchNormalization(),\n",
        "    layers.Dense(train_generator.num_classes, activation='softmax')\n",
        "])\n",
        "\n",
        "# Compile the model\n",
        "model.compile(\n",
        "    optimizer=Adam(learning_rate=0.001),\n",
        "    loss='categorical_crossentropy',\n",
        "    metrics=['accuracy']\n",
        ")\n",
        "\n",
        "# Display model summary\n",
        "model.summary()\n",
        "\n",
        "# Callbacks\n",
        "early_stopping = EarlyStopping(monitor='val_loss', patience=10, restore_best_weights=True)\n",
        "lr_scheduler = ReduceLROnPlateau(monitor='val_loss', factor=0.5, patience=5, min_lr=1e-6, verbose=1)\n",
        "\n",
        "# Train the model (Initial Training)\n",
        "history = model.fit(\n",
        "    train_generator,\n",
        "    validation_data=test_generator,\n",
        "    epochs=epochs,\n",
        "    callbacks=[early_stopping, lr_scheduler],\n",
        "    class_weight = class_weights\n",
        ")\n",
        "\n",
        "# Unfreeze some layers in the base model for fine-tuning\n",
        "base_model.trainable = True\n",
        "\n",
        "# Freeze the first N layers of the base model\n",
        "for layer in base_model.layers[:100]:  # Adjust the number as needed\n",
        "    layer.trainable = False\n",
        "\n",
        "# Recompile the model for fine-tuning\n",
        "model.compile(\n",
        "    optimizer=Adam(learning_rate=1e-5),  # Lower learning rate for fine-tuning\n",
        "    loss='categorical_crossentropy',\n",
        "    metrics=['accuracy']\n",
        ")\n",
        "\n",
        "# Fine-tuning\n",
        "fine_tune_history = model.fit(\n",
        "    train_generator,\n",
        "    validation_data=test_generator,\n",
        "    epochs=fine_tune_epochs,\n",
        "    callbacks=[early_stopping, lr_scheduler]\n",
        ")\n",
        "\n",
        "\n"
      ]
    },
    {
      "cell_type": "code",
      "source": [
        "# Evaluate the model\n",
        "test_loss, test_accuracy = model.evaluate(test_generator)\n",
        "print(f\"Test Accuracy: {test_accuracy * 100:.2f}%\")\n",
        "\n",
        "# Save the model\n",
        "\n",
        "# Plot training history\n",
        "plt.figure(figsize=(12, 5))\n",
        "plt.subplot(1, 2, 1)\n",
        "plt.plot(history.history['accuracy'], label='Train Accuracy')\n",
        "plt.plot(history.history['val_accuracy'], label='Validation Accuracy')\n",
        "plt.title('Initial Training Accuracy')\n",
        "plt.legend()\n",
        "\n",
        "plt.subplot(1, 2, 2)\n",
        "plt.plot(history.history['loss'], label='Train Loss')\n",
        "plt.plot(history.history['val_loss'], label='Validation Loss')\n",
        "plt.title('Initial Training Loss')\n",
        "plt.legend()\n",
        "plt.show()\n",
        "\n",
        "plt.figure(figsize=(12, 5))\n",
        "plt.subplot(1, 2, 1)\n",
        "plt.plot(fine_tune_history.history['accuracy'], label='Fine-Tune Train Accuracy')\n",
        "plt.plot(fine_tune_history.history['val_accuracy'], label='Fine-Tune Validation Accuracy')\n",
        "plt.title('Fine-Tuning Accuracy')\n",
        "plt.legend()\n",
        "\n",
        "plt.subplot(1, 2, 2)\n",
        "plt.plot(fine_tune_history.history['loss'], label='Fine-Tune Train Loss')\n",
        "plt.plot(fine_tune_history.history['val_loss'], label='Fine-Tune Validation Loss')\n",
        "plt.title('Fine-Tuning Loss')\n",
        "plt.legend()\n",
        "plt.show()"
      ],
      "metadata": {
        "colab": {
          "base_uri": "https://localhost:8080/",
          "height": 624
        },
        "id": "AIDb1Tz9RC_u",
        "outputId": "369bc42f-cebe-4abd-ee5e-7abfb82c8349"
      },
      "execution_count": null,
      "outputs": [
        {
          "output_type": "stream",
          "name": "stdout",
          "text": [
            "\u001b[1m14/14\u001b[0m \u001b[32m━━━━━━━━━━━━━━━━━━━━\u001b[0m\u001b[37m\u001b[0m \u001b[1m4s\u001b[0m 255ms/step - accuracy: 0.9007 - loss: 0.4278\n",
            "Test Accuracy: 90.85%\n"
          ]
        },
        {
          "output_type": "display_data",
          "data": {
            "text/plain": [
              "<Figure size 1200x500 with 2 Axes>"
            ],
            "image/png": "[encoded data removed]"
          },
          "metadata": {}
        },
        {
          "output_type": "display_data",
          "data": {
            "text/plain": [
              "<Figure size 1200x500 with 2 Axes>"
            ],
            "image/png": "[encoded data removed]"
          },
          "metadata": {}
        }
      ]
    },
    {
      "cell_type": "markdown",
      "source": [
        "# Model Save"
      ],
      "metadata": {
        "id": "4-ZNTP0xRICR"
      }
    },
    {
      "cell_type": "markdown",
      "source": [],
      "metadata": {
        "id": "HCf84c2nRk1d"
      }
    },
    {
      "cell_type": "code",
      "execution_count": null,
      "metadata": {
        "id": "QXD76JXVhHSi",
        "colab": {
          "base_uri": "https://localhost:8080/"
        },
        "outputId": "de0fa76c-6090-4d66-dd29-88d0fcdb0af9"
      },
      "outputs": [
        {
          "output_type": "stream",
          "name": "stderr",
          "text": [
            "WARNING:absl:You are saving your model as an HDF5 file via `model.save()` or `keras.saving.save_model(model)`. This file format is considered legacy. We recommend using instead the native Keras format, e.g. `model.save('my_model.keras')` or `keras.saving.save_model(model, 'my_model.keras')`. \n"
          ]
        }
      ],
      "source": [
        "# Save the model\n",
        "model.save('/content/drive/MyDrive/Capstone/exception_Banyumas_food_final.h5')"
      ]
    },
    {
      "cell_type": "code",
      "source": [
        "# prompt: # Save the model\n",
        "# model.save('/content/drive/MyDrive/exception_Banyumas_food_temp.h5')\n",
        "# convert to tflite\n",
        "\n",
        "import tensorflow as tf\n",
        "\n",
        "# Load the saved model\n",
        "model = tf.keras.models.load_model('/content/drive/MyDrive/Capstone/exception_Banyumas_food_final.h5')\n",
        "\n",
        "# Convert the model to TensorFlow Lite\n",
        "converter = tf.lite.TFLiteConverter.from_keras_model(model)\n",
        "tflite_model = converter.convert()\n",
        "\n",
        "# Save the TFLite model\n",
        "with open('/content/drive/MyDrive/Capstone/exception_Banyumas_food_final.tflite', 'wb') as f:\n",
        "  f.write(tflite_model)"
      ],
      "metadata": {
        "colab": {
          "base_uri": "https://localhost:8080/"
        },
        "id": "ixHHvBHJRonh",
        "outputId": "cfdb7616-2c24-4b2b-f622-ece3677a633d"
      },
      "execution_count": null,
      "outputs": [
        {
          "output_type": "stream",
          "name": "stderr",
          "text": [
            "WARNING:absl:Compiled the loaded model, but the compiled metrics have yet to be built. `model.compile_metrics` will be empty until you train or evaluate the model.\n"
          ]
        },
        {
          "output_type": "stream",
          "name": "stdout",
          "text": [
            "Saved artifact at '/tmp/tmppzp2u59y'. The following endpoints are available:\n",
            "\n",
            "* Endpoint 'serve'\n",
            "  args_0 (POSITIONAL_ONLY): TensorSpec(shape=(None, 299, 299, 3), dtype=tf.float32, name='input_layer_1')\n",
            "Output Type:\n",
            "  TensorSpec(shape=(None, 11), dtype=tf.float32, name=None)\n",
            "Captures:\n",
            "  132652629650320: TensorSpec(shape=(), dtype=tf.resource, name=None)\n",
            "  132652628394752: TensorSpec(shape=(), dtype=tf.resource, name=None)\n",
            "  132652628397392: TensorSpec(shape=(), dtype=tf.resource, name=None)\n",
            "  132652628240064: TensorSpec(shape=(), dtype=tf.resource, name=None)\n",
            "  132652628241472: TensorSpec(shape=(), dtype=tf.resource, name=None)\n",
            "  132652628242000: TensorSpec(shape=(), dtype=tf.resource, name=None)\n",
            "  132652628404960: TensorSpec(shape=(), dtype=tf.resource, name=None)\n",
            "  132652628398976: TensorSpec(shape=(), dtype=tf.resource, name=None)\n",
            "  132652628408304: TensorSpec(shape=(), dtype=tf.resource, name=None)\n",
            "  132652628402848: TensorSpec(shape=(), dtype=tf.resource, name=None)\n",
            "  132652628395104: TensorSpec(shape=(), dtype=tf.resource, name=None)\n",
            "  132652628407952: TensorSpec(shape=(), dtype=tf.resource, name=None)\n",
            "  132652628405840: TensorSpec(shape=(), dtype=tf.resource, name=None)\n",
            "  132652628395456: TensorSpec(shape=(), dtype=tf.resource, name=None)\n",
            "  132652628400560: TensorSpec(shape=(), dtype=tf.resource, name=None)\n",
            "  132652628401440: TensorSpec(shape=(), dtype=tf.resource, name=None)\n",
            "  132652628395984: TensorSpec(shape=(), dtype=tf.resource, name=None)\n",
            "  132652628452880: TensorSpec(shape=(), dtype=tf.resource, name=None)\n",
            "  132652628457280: TensorSpec(shape=(), dtype=tf.resource, name=None)\n",
            "  132652628453936: TensorSpec(shape=(), dtype=tf.resource, name=None)\n",
            "  132652628453584: TensorSpec(shape=(), dtype=tf.resource, name=None)\n",
            "  132652628451648: TensorSpec(shape=(), dtype=tf.resource, name=None)\n",
            "  132652628454112: TensorSpec(shape=(), dtype=tf.resource, name=None)\n",
            "  132652628457456: TensorSpec(shape=(), dtype=tf.resource, name=None)\n",
            "  132652628453056: TensorSpec(shape=(), dtype=tf.resource, name=None)\n",
            "  132652628456048: TensorSpec(shape=(), dtype=tf.resource, name=None)\n",
            "  132652628458512: TensorSpec(shape=(), dtype=tf.resource, name=None)\n",
            "  132652628459216: TensorSpec(shape=(), dtype=tf.resource, name=None)\n",
            "  132652628456576: TensorSpec(shape=(), dtype=tf.resource, name=None)\n",
            "  132652628594000: TensorSpec(shape=(), dtype=tf.resource, name=None)\n",
            "  132652628594352: TensorSpec(shape=(), dtype=tf.resource, name=None)\n",
            "  132652628595232: TensorSpec(shape=(), dtype=tf.resource, name=None)\n",
            "  132652628594176: TensorSpec(shape=(), dtype=tf.resource, name=None)\n",
            "  132652628597520: TensorSpec(shape=(), dtype=tf.resource, name=None)\n",
            "  132652628594880: TensorSpec(shape=(), dtype=tf.resource, name=None)\n",
            "  132652628601920: TensorSpec(shape=(), dtype=tf.resource, name=None)\n",
            "  132652628595936: TensorSpec(shape=(), dtype=tf.resource, name=None)\n",
            "  132652628596992: TensorSpec(shape=(), dtype=tf.resource, name=None)\n",
            "  132652628595408: TensorSpec(shape=(), dtype=tf.resource, name=None)\n",
            "  132652628598752: TensorSpec(shape=(), dtype=tf.resource, name=None)\n",
            "  132652628602096: TensorSpec(shape=(), dtype=tf.resource, name=None)\n",
            "  132652628603856: TensorSpec(shape=(), dtype=tf.resource, name=None)\n",
            "  132652628600688: TensorSpec(shape=(), dtype=tf.resource, name=None)\n",
            "  132652628603152: TensorSpec(shape=(), dtype=tf.resource, name=None)\n",
            "  132652628604384: TensorSpec(shape=(), dtype=tf.resource, name=None)\n",
            "  132652628604736: TensorSpec(shape=(), dtype=tf.resource, name=None)\n",
            "  132652628600864: TensorSpec(shape=(), dtype=tf.resource, name=None)\n",
            "  132652628599104: TensorSpec(shape=(), dtype=tf.resource, name=None)\n",
            "  132652628606496: TensorSpec(shape=(), dtype=tf.resource, name=None)\n",
            "  132652628689136: TensorSpec(shape=(), dtype=tf.resource, name=None)\n",
            "  132652628598048: TensorSpec(shape=(), dtype=tf.resource, name=None)\n",
            "  132652628693008: TensorSpec(shape=(), dtype=tf.resource, name=None)\n",
            "  132652628697408: TensorSpec(shape=(), dtype=tf.resource, name=None)\n",
            "  132652628694064: TensorSpec(shape=(), dtype=tf.resource, name=None)\n",
            "  132652628692480: TensorSpec(shape=(), dtype=tf.resource, name=None)\n",
            "  132652628691776: TensorSpec(shape=(), dtype=tf.resource, name=None)\n",
            "  132652628694240: TensorSpec(shape=(), dtype=tf.resource, name=None)\n",
            "  132652628700224: TensorSpec(shape=(), dtype=tf.resource, name=None)\n",
            "  132652628702336: TensorSpec(shape=(), dtype=tf.resource, name=None)\n",
            "  132652628696176: TensorSpec(shape=(), dtype=tf.resource, name=None)\n",
            "  132652628103536: TensorSpec(shape=(), dtype=tf.resource, name=None)\n",
            "  132652628760832: TensorSpec(shape=(), dtype=tf.resource, name=None)\n",
            "  132652628755200: TensorSpec(shape=(), dtype=tf.resource, name=None)\n",
            "  132652628761888: TensorSpec(shape=(), dtype=tf.resource, name=None)\n",
            "  132652628760304: TensorSpec(shape=(), dtype=tf.resource, name=None)\n",
            "  132652628759600: TensorSpec(shape=(), dtype=tf.resource, name=None)\n",
            "  132652628762064: TensorSpec(shape=(), dtype=tf.resource, name=None)\n",
            "  132652628765408: TensorSpec(shape=(), dtype=tf.resource, name=None)\n",
            "  132652628762768: TensorSpec(shape=(), dtype=tf.resource, name=None)\n",
            "  132652628763824: TensorSpec(shape=(), dtype=tf.resource, name=None)\n",
            "  132652628764880: TensorSpec(shape=(), dtype=tf.resource, name=None)\n",
            "  132652628763296: TensorSpec(shape=(), dtype=tf.resource, name=None)\n",
            "  132652628766640: TensorSpec(shape=(), dtype=tf.resource, name=None)\n",
            "  132652628767344: TensorSpec(shape=(), dtype=tf.resource, name=None)\n",
            "  132652628768400: TensorSpec(shape=(), dtype=tf.resource, name=None)\n",
            "  132652628765760: TensorSpec(shape=(), dtype=tf.resource, name=None)\n",
            "  132652628762416: TensorSpec(shape=(), dtype=tf.resource, name=None)\n",
            "  132652628770160: TensorSpec(shape=(), dtype=tf.resource, name=None)\n",
            "  132652628820736: TensorSpec(shape=(), dtype=tf.resource, name=None)\n",
            "  132652628824080: TensorSpec(shape=(), dtype=tf.resource, name=None)\n",
            "  132652628822144: TensorSpec(shape=(), dtype=tf.resource, name=None)\n",
            "  132652628825136: TensorSpec(shape=(), dtype=tf.resource, name=None)\n",
            "  132652628823552: TensorSpec(shape=(), dtype=tf.resource, name=None)\n",
            "  132652628821792: TensorSpec(shape=(), dtype=tf.resource, name=None)\n",
            "  132652628825312: TensorSpec(shape=(), dtype=tf.resource, name=None)\n",
            "  132652628828656: TensorSpec(shape=(), dtype=tf.resource, name=None)\n",
            "  132652628826016: TensorSpec(shape=(), dtype=tf.resource, name=None)\n",
            "  132652628827072: TensorSpec(shape=(), dtype=tf.resource, name=None)\n",
            "  132652628828128: TensorSpec(shape=(), dtype=tf.resource, name=None)\n",
            "  132652628826544: TensorSpec(shape=(), dtype=tf.resource, name=None)\n",
            "  132652628829888: TensorSpec(shape=(), dtype=tf.resource, name=None)\n",
            "  132652628833232: TensorSpec(shape=(), dtype=tf.resource, name=None)\n",
            "  132652628830592: TensorSpec(shape=(), dtype=tf.resource, name=None)\n",
            "  132652628831648: TensorSpec(shape=(), dtype=tf.resource, name=None)\n",
            "  132652628834992: TensorSpec(shape=(), dtype=tf.resource, name=None)\n",
            "  132652628831120: TensorSpec(shape=(), dtype=tf.resource, name=None)\n",
            "  132652628834464: TensorSpec(shape=(), dtype=tf.resource, name=None)\n",
            "  132652628836048: TensorSpec(shape=(), dtype=tf.resource, name=None)\n",
            "  132652628832528: TensorSpec(shape=(), dtype=tf.resource, name=None)\n",
            "  132652628954800: TensorSpec(shape=(), dtype=tf.resource, name=None)\n",
            "  132652628951104: TensorSpec(shape=(), dtype=tf.resource, name=None)\n",
            "  132652628953568: TensorSpec(shape=(), dtype=tf.resource, name=None)\n",
            "  132652628953744: TensorSpec(shape=(), dtype=tf.resource, name=None)\n",
            "  132652628957440: TensorSpec(shape=(), dtype=tf.resource, name=None)\n",
            "  132652628954096: TensorSpec(shape=(), dtype=tf.resource, name=None)\n",
            "  132652628955856: TensorSpec(shape=(), dtype=tf.resource, name=None)\n",
            "  132652628956912: TensorSpec(shape=(), dtype=tf.resource, name=None)\n",
            "  132652628955328: TensorSpec(shape=(), dtype=tf.resource, name=None)\n",
            "  132652628958672: TensorSpec(shape=(), dtype=tf.resource, name=None)\n",
            "  132652628962016: TensorSpec(shape=(), dtype=tf.resource, name=None)\n",
            "  132652628959376: TensorSpec(shape=(), dtype=tf.resource, name=None)\n",
            "  132652628960432: TensorSpec(shape=(), dtype=tf.resource, name=None)\n",
            "  132652628963776: TensorSpec(shape=(), dtype=tf.resource, name=None)\n",
            "  132652628959904: TensorSpec(shape=(), dtype=tf.resource, name=None)\n",
            "  132652628963248: TensorSpec(shape=(), dtype=tf.resource, name=None)\n",
            "  132652628964832: TensorSpec(shape=(), dtype=tf.resource, name=None)\n",
            "  132652628965184: TensorSpec(shape=(), dtype=tf.resource, name=None)\n",
            "  132652628962368: TensorSpec(shape=(), dtype=tf.resource, name=None)\n",
            "  132652628959024: TensorSpec(shape=(), dtype=tf.resource, name=None)\n",
            "  132652628966944: TensorSpec(shape=(), dtype=tf.resource, name=None)\n",
            "  132652615483632: TensorSpec(shape=(), dtype=tf.resource, name=None)\n",
            "  132652628955504: TensorSpec(shape=(), dtype=tf.resource, name=None)\n",
            "  132652615487504: TensorSpec(shape=(), dtype=tf.resource, name=None)\n",
            "  132652615488560: TensorSpec(shape=(), dtype=tf.resource, name=None)\n",
            "  132652615486976: TensorSpec(shape=(), dtype=tf.resource, name=None)\n",
            "  132652615486272: TensorSpec(shape=(), dtype=tf.resource, name=None)\n",
            "  132652615488736: TensorSpec(shape=(), dtype=tf.resource, name=None)\n",
            "  132652615492080: TensorSpec(shape=(), dtype=tf.resource, name=None)\n",
            "  132652615489440: TensorSpec(shape=(), dtype=tf.resource, name=None)\n",
            "  132652615490496: TensorSpec(shape=(), dtype=tf.resource, name=None)\n",
            "  132652615491552: TensorSpec(shape=(), dtype=tf.resource, name=None)\n",
            "  132652615489968: TensorSpec(shape=(), dtype=tf.resource, name=None)\n",
            "  132652615493312: TensorSpec(shape=(), dtype=tf.resource, name=None)\n",
            "  132652615496832: TensorSpec(shape=(), dtype=tf.resource, name=None)\n",
            "  132652615494896: TensorSpec(shape=(), dtype=tf.resource, name=None)\n",
            "  132652615495248: TensorSpec(shape=(), dtype=tf.resource, name=None)\n",
            "  132652615498592: TensorSpec(shape=(), dtype=tf.resource, name=None)\n",
            "  132652615494544: TensorSpec(shape=(), dtype=tf.resource, name=None)\n",
            "  132652615498064: TensorSpec(shape=(), dtype=tf.resource, name=None)\n",
            "  132652615498768: TensorSpec(shape=(), dtype=tf.resource, name=None)\n",
            "  132652615496128: TensorSpec(shape=(), dtype=tf.resource, name=None)\n",
            "  132652615601840: TensorSpec(shape=(), dtype=tf.resource, name=None)\n",
            "  132652615598144: TensorSpec(shape=(), dtype=tf.resource, name=None)\n",
            "  132652615600608: TensorSpec(shape=(), dtype=tf.resource, name=None)\n",
            "  132652615600784: TensorSpec(shape=(), dtype=tf.resource, name=None)\n",
            "  132652615604480: TensorSpec(shape=(), dtype=tf.resource, name=None)\n",
            "  132652615601136: TensorSpec(shape=(), dtype=tf.resource, name=None)\n",
            "  132652615602896: TensorSpec(shape=(), dtype=tf.resource, name=None)\n",
            "  132652615603952: TensorSpec(shape=(), dtype=tf.resource, name=None)\n",
            "  132652615602368: TensorSpec(shape=(), dtype=tf.resource, name=None)\n",
            "  132652615605712: TensorSpec(shape=(), dtype=tf.resource, name=None)\n",
            "  132652615609232: TensorSpec(shape=(), dtype=tf.resource, name=None)\n",
            "  132652615607296: TensorSpec(shape=(), dtype=tf.resource, name=None)\n",
            "  132652615607648: TensorSpec(shape=(), dtype=tf.resource, name=None)\n",
            "  132652615610992: TensorSpec(shape=(), dtype=tf.resource, name=None)\n",
            "  132652615606944: TensorSpec(shape=(), dtype=tf.resource, name=None)\n",
            "  132652615610464: TensorSpec(shape=(), dtype=tf.resource, name=None)\n",
            "  132652615611168: TensorSpec(shape=(), dtype=tf.resource, name=None)\n",
            "  132652615612224: TensorSpec(shape=(), dtype=tf.resource, name=None)\n",
            "  132652615609584: TensorSpec(shape=(), dtype=tf.resource, name=None)\n",
            "  132652615606064: TensorSpec(shape=(), dtype=tf.resource, name=None)\n",
            "  132652615613984: TensorSpec(shape=(), dtype=tf.resource, name=None)\n",
            "  132652615647472: TensorSpec(shape=(), dtype=tf.resource, name=None)\n",
            "  132652615600256: TensorSpec(shape=(), dtype=tf.resource, name=None)\n",
            "  132652615651344: TensorSpec(shape=(), dtype=tf.resource, name=None)\n",
            "  132652628697936: TensorSpec(shape=(), dtype=tf.resource, name=None)\n",
            "  132652628400032: TensorSpec(shape=(), dtype=tf.resource, name=None)\n",
            "  132652615650112: TensorSpec(shape=(), dtype=tf.resource, name=None)\n",
            "  132652615610816: TensorSpec(shape=(), dtype=tf.resource, name=None)\n",
            "  132652628407072: TensorSpec(shape=(), dtype=tf.resource, name=None)\n",
            "  132652832533040: TensorSpec(shape=(), dtype=tf.resource, name=None)\n",
            "  132652628444432: TensorSpec(shape=(), dtype=tf.resource, name=None)\n",
            "  132652628446544: TensorSpec(shape=(), dtype=tf.resource, name=None)\n",
            "  132652628408832: TensorSpec(shape=(), dtype=tf.resource, name=None)\n",
            "  132652628445664: TensorSpec(shape=(), dtype=tf.resource, name=None)\n",
            "  132652628447248: TensorSpec(shape=(), dtype=tf.resource, name=None)\n",
            "  132652628445312: TensorSpec(shape=(), dtype=tf.resource, name=None)\n",
            "  132652615652224: TensorSpec(shape=(), dtype=tf.resource, name=None)\n",
            "  132652615653632: TensorSpec(shape=(), dtype=tf.resource, name=None)\n",
            "  132652615653104: TensorSpec(shape=(), dtype=tf.resource, name=None)\n",
            "  132652615653280: TensorSpec(shape=(), dtype=tf.resource, name=None)\n",
            "  132652615655920: TensorSpec(shape=(), dtype=tf.resource, name=None)\n",
            "  132652615647648: TensorSpec(shape=(), dtype=tf.resource, name=None)\n",
            "  132652615654336: TensorSpec(shape=(), dtype=tf.resource, name=None)\n",
            "  132652615655392: TensorSpec(shape=(), dtype=tf.resource, name=None)\n",
            "  132652615653808: TensorSpec(shape=(), dtype=tf.resource, name=None)\n",
            "  132652615657152: TensorSpec(shape=(), dtype=tf.resource, name=None)\n",
            "  132652615660672: TensorSpec(shape=(), dtype=tf.resource, name=None)\n",
            "  132652615658736: TensorSpec(shape=(), dtype=tf.resource, name=None)\n",
            "  132652615659088: TensorSpec(shape=(), dtype=tf.resource, name=None)\n",
            "  132652615662432: TensorSpec(shape=(), dtype=tf.resource, name=None)\n",
            "  132652615658384: TensorSpec(shape=(), dtype=tf.resource, name=None)\n",
            "  132652615661904: TensorSpec(shape=(), dtype=tf.resource, name=None)\n",
            "  132652615662608: TensorSpec(shape=(), dtype=tf.resource, name=None)\n",
            "  132652615659968: TensorSpec(shape=(), dtype=tf.resource, name=None)\n",
            "  132652615782064: TensorSpec(shape=(), dtype=tf.resource, name=None)\n",
            "  132652615778368: TensorSpec(shape=(), dtype=tf.resource, name=None)\n",
            "  132652615780832: TensorSpec(shape=(), dtype=tf.resource, name=None)\n",
            "  132652615781008: TensorSpec(shape=(), dtype=tf.resource, name=None)\n",
            "  132652615784704: TensorSpec(shape=(), dtype=tf.resource, name=None)\n",
            "  132652615781360: TensorSpec(shape=(), dtype=tf.resource, name=None)\n",
            "  132652615783120: TensorSpec(shape=(), dtype=tf.resource, name=None)\n",
            "  132652615784176: TensorSpec(shape=(), dtype=tf.resource, name=None)\n",
            "  132652615782592: TensorSpec(shape=(), dtype=tf.resource, name=None)\n",
            "  132652615785936: TensorSpec(shape=(), dtype=tf.resource, name=None)\n",
            "  132652615789456: TensorSpec(shape=(), dtype=tf.resource, name=None)\n",
            "  132652615787520: TensorSpec(shape=(), dtype=tf.resource, name=None)\n",
            "  132652615787872: TensorSpec(shape=(), dtype=tf.resource, name=None)\n",
            "  132652615791216: TensorSpec(shape=(), dtype=tf.resource, name=None)\n",
            "  132652615787168: TensorSpec(shape=(), dtype=tf.resource, name=None)\n",
            "  132652615790688: TensorSpec(shape=(), dtype=tf.resource, name=None)\n",
            "  132652615791392: TensorSpec(shape=(), dtype=tf.resource, name=None)\n",
            "  132652615792448: TensorSpec(shape=(), dtype=tf.resource, name=None)\n",
            "  132652615793504: TensorSpec(shape=(), dtype=tf.resource, name=None)\n",
            "  132652615789808: TensorSpec(shape=(), dtype=tf.resource, name=None)\n",
            "  132652615786288: TensorSpec(shape=(), dtype=tf.resource, name=None)\n",
            "  132652615794208: TensorSpec(shape=(), dtype=tf.resource, name=None)\n",
            "  132652615860464: TensorSpec(shape=(), dtype=tf.resource, name=None)\n",
            "  132652615863984: TensorSpec(shape=(), dtype=tf.resource, name=None)\n",
            "  132652615860640: TensorSpec(shape=(), dtype=tf.resource, name=None)\n",
            "  132652615860816: TensorSpec(shape=(), dtype=tf.resource, name=None)\n",
            "  132652615865392: TensorSpec(shape=(), dtype=tf.resource, name=None)\n",
            "  132652615868384: TensorSpec(shape=(), dtype=tf.resource, name=None)\n",
            "  132652615865040: TensorSpec(shape=(), dtype=tf.resource, name=None)\n",
            "  132652615866800: TensorSpec(shape=(), dtype=tf.resource, name=None)\n",
            "  132652615867856: TensorSpec(shape=(), dtype=tf.resource, name=None)\n",
            "  132652615866272: TensorSpec(shape=(), dtype=tf.resource, name=None)\n",
            "  132652615869616: TensorSpec(shape=(), dtype=tf.resource, name=None)\n",
            "  132652615872960: TensorSpec(shape=(), dtype=tf.resource, name=None)\n",
            "  132652615870320: TensorSpec(shape=(), dtype=tf.resource, name=None)\n",
            "  132652615871376: TensorSpec(shape=(), dtype=tf.resource, name=None)\n",
            "  132652615874720: TensorSpec(shape=(), dtype=tf.resource, name=None)\n",
            "  132652615870848: TensorSpec(shape=(), dtype=tf.resource, name=None)\n",
            "  132652615874192: TensorSpec(shape=(), dtype=tf.resource, name=None)\n",
            "  132652629109648: TensorSpec(shape=(), dtype=tf.resource, name=None)\n",
            "  132652629111056: TensorSpec(shape=(), dtype=tf.resource, name=None)\n",
            "  132652629107008: TensorSpec(shape=(), dtype=tf.resource, name=None)\n",
            "  132652629109296: TensorSpec(shape=(), dtype=tf.resource, name=None)\n",
            "  132652616123664: TensorSpec(shape=(), dtype=tf.resource, name=None)\n",
            "  132652616124544: TensorSpec(shape=(), dtype=tf.resource, name=None)\n",
            "  132652616133696: TensorSpec(shape=(), dtype=tf.resource, name=None)\n",
            "  132652616135456: TensorSpec(shape=(), dtype=tf.resource, name=None)\n",
            "  132652616132992: TensorSpec(shape=(), dtype=tf.resource, name=None)\n",
            "  132652616134224: TensorSpec(shape=(), dtype=tf.resource, name=None)\n",
            "  132652616136512: TensorSpec(shape=(), dtype=tf.resource, name=None)\n",
            "  132652616254384: TensorSpec(shape=(), dtype=tf.resource, name=None)\n"
          ]
        }
      ]
    },
    {
      "cell_type": "code",
      "source": [],
      "metadata": {
        "id": "j8HFKRi3rs8V"
      },
      "execution_count": null,
      "outputs": []
    }
  ],
  "metadata": {
    "accelerator": "GPU",
    "colab": {
      "gpuType": "T4",
      "provenance": []
    },
    "kernelspec": {
      "display_name": "Python 3",
      "name": "python3"
    },
    "language_info": {
      "name": "python"
    }
  },
  "nbformat": 4,
  "nbformat_minor": 0
}